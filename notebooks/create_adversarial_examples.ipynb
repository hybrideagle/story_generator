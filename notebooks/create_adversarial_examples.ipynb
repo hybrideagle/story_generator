{
 "cells": [
  {
   "cell_type": "code",
   "execution_count": 23,
   "metadata": {},
   "outputs": [],
   "source": [
    "import os\n",
    "import json\n",
    "import numpy as np\n",
    "import pandas as pd\n",
    "from random import random"
   ]
  },
  {
   "cell_type": "markdown",
   "metadata": {},
   "source": [
    "Generates adversarial examples by swapping random sentences"
   ]
  },
  {
   "cell_type": "code",
   "execution_count": 33,
   "metadata": {},
   "outputs": [],
   "source": [
    "def scramble(text, scramble_factor=0.5):\n",
    "    lines = [i.strip() for i in text.strip().split(\".\")]\n",
    "    for i in range(50):\n",
    "        if random() < scramble_factor:\n",
    "            a,b = np.random.choice(len(lines), 2)\n",
    "            lines[a], lines[b] = lines[b], lines[a]\n",
    "    return \". \".join(lines) + \".\""
   ]
  },
  {
   "cell_type": "code",
   "execution_count": 37,
   "metadata": {},
   "outputs": [
    {
     "data": {
      "text/html": [
       "<div>\n",
       "<style>\n",
       "    .dataframe thead tr:only-child th {\n",
       "        text-align: right;\n",
       "    }\n",
       "\n",
       "    .dataframe thead th {\n",
       "        text-align: left;\n",
       "    }\n",
       "\n",
       "    .dataframe tbody tr th {\n",
       "        vertical-align: top;\n",
       "    }\n",
       "</style>\n",
       "<table border=\"1\" class=\"dataframe\">\n",
       "  <thead>\n",
       "    <tr style=\"text-align: right;\">\n",
       "      <th></th>\n",
       "      <th>Unnamed: 0</th>\n",
       "      <th>prompt</th>\n",
       "      <th>story</th>\n",
       "    </tr>\n",
       "  </thead>\n",
       "  <tbody>\n",
       "    <tr>\n",
       "      <th>0</th>\n",
       "      <td>0</td>\n",
       "      <td>Changing a Wikipedia article will actually cha...</td>\n",
       "      <td>It started one day when an editor for a Wikipe...</td>\n",
       "    </tr>\n",
       "    <tr>\n",
       "      <th>1</th>\n",
       "      <td>1</td>\n",
       "      <td>Changing a Wikipedia article will actually cha...</td>\n",
       "      <td>But you’ve got to try. You can see my mistake,...</td>\n",
       "    </tr>\n",
       "    <tr>\n",
       "      <th>2</th>\n",
       "      <td>2</td>\n",
       "      <td>A little girl makes an innocent birthday wish....</td>\n",
       "      <td>It only took a week before there were reports ...</td>\n",
       "    </tr>\n",
       "    <tr>\n",
       "      <th>3</th>\n",
       "      <td>3</td>\n",
       "      <td>A little girl makes an innocent birthday wish....</td>\n",
       "      <td>Mary almost seemed impressed. The ground shook...</td>\n",
       "    </tr>\n",
       "    <tr>\n",
       "      <th>4</th>\n",
       "      <td>4</td>\n",
       "      <td>A little girl makes an innocent birthday wish....</td>\n",
       "      <td>The news had reported it, and everyone was goi...</td>\n",
       "    </tr>\n",
       "  </tbody>\n",
       "</table>\n",
       "</div>"
      ],
      "text/plain": [
       "   Unnamed: 0                                             prompt  \\\n",
       "0           0  Changing a Wikipedia article will actually cha...   \n",
       "1           1  Changing a Wikipedia article will actually cha...   \n",
       "2           2  A little girl makes an innocent birthday wish....   \n",
       "3           3  A little girl makes an innocent birthday wish....   \n",
       "4           4  A little girl makes an innocent birthday wish....   \n",
       "\n",
       "                                               story  \n",
       "0  It started one day when an editor for a Wikipe...  \n",
       "1  But you’ve got to try. You can see my mistake,...  \n",
       "2  It only took a week before there were reports ...  \n",
       "3  Mary almost seemed impressed. The ground shook...  \n",
       "4  The news had reported it, and everyone was goi...  "
      ]
     },
     "execution_count": 37,
     "metadata": {},
     "output_type": "execute_result"
    }
   ],
   "source": [
    "data = pd.read_csv(\"../dataset/data.csv\")\n",
    "data.story = data.story.apply(scramble)\n",
    "data.to_csv(\"../dataset/scrambled.csv\")\n",
    "data.head()"
   ]
  },
  {
   "cell_type": "code",
   "execution_count": 35,
   "metadata": {},
   "outputs": [
    {
     "data": {
      "text/plain": [
       "\"Sonic the Hedgehog. Are you aware of the Mandela effect? The conspiracy theory that when you think something is one way that you remembered, but was something far different? It got its name from the memory people had when Nelson Mandela was thought dead after his activism in Africa, while he was in fact alive and in prison? Maybe you know of it as the Berenstain Bears, where people remembered it as the Berenstein Bears? You can thank Wikipedia of all things for that. I'll get to that later. That means we couldn't force the death of Hitler before the Holocaust, that we couldn't force the existence of the cure for cancer, these things had to and have to happen naturally or else history and reality will be fractured. . It started one day when an editor for a Wikipedia decided to be an internet troll and edit President Donald Trump's page to include a few paragraphs to include his death at the hands of. I would cringe at the idea, but I can't press myself to do so in current circumstances. fartbutts420 was a sociopath, cynical and uncaring to the core, and we are all paying the price. We cannot edit or remove their work, and we cannot write anything to save our world. Please, do not misuse Wikipedia. It is due to their edits that our world is blinking out of existence in thirty minutes, and that we are unable to stop it, as prophesized in their article, End of the World. . Once someone edited out these events, undoing the death of Trump, more editors started finding that errors such as Mandela's death or the spelling of the Berenstain Bears were making reality shift more and more, and we had to police ourselves more before the public would catch on, if they ever would. Our efforts to keep the world intact while updating and editing Wikipedia have been proven fruitless, however, once user fartbutts420 made their way into the Wikipedia editing community. Someone had warped reality by inserting a fictional blue hedgehog into our world, and gave him the motive to assassinate our president. . I'm writing this in the hopes it could somehow, someway, reach someone in another plane of existence to save them.\""
      ]
     },
     "execution_count": 35,
     "metadata": {},
     "output_type": "execute_result"
    }
   ],
   "source": []
  },
  {
   "cell_type": "code",
   "execution_count": null,
   "metadata": {},
   "outputs": [],
   "source": []
  }
 ],
 "metadata": {
  "kernelspec": {
   "display_name": "Python 3",
   "language": "python",
   "name": "python3"
  },
  "language_info": {
   "codemirror_mode": {
    "name": "ipython",
    "version": 3
   },
   "file_extension": ".py",
   "mimetype": "text/x-python",
   "name": "python",
   "nbconvert_exporter": "python",
   "pygments_lexer": "ipython3",
   "version": "3.5.2"
  }
 },
 "nbformat": 4,
 "nbformat_minor": 2
}
